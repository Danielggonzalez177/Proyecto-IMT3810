{
 "cells": [
  {
   "cell_type": "markdown",
   "metadata": {},
   "source": [
    "# Solving a Laplace problem with Dirichlet boundary conditions"
   ]
  },
  {
   "cell_type": "markdown",
   "metadata": {},
   "source": [
    "### Background"
   ]
  },
  {
   "cell_type": "markdown",
   "metadata": {},
   "source": [
    "In this tutorial, we will solve a simple Laplace problem inside the unit sphere with Dirichlet boundary conditions. Let $\\Omega$ be the unit sphere with boundary $\\Gamma$. Let $\\nu$ be the outward pointing normal on $\\Gamma$. The PDE and boundary conditions are given by\n",
    "\n",
    "\\begin{align}\n",
    "\\Delta u &= 0&&\\text{in }\\Omega,\\\\\n",
    "u &= f&&\\text{on }\\Gamma.\n",
    "\\end{align}\n",
    "\n",
    "The boundary data is a source $\\hat{u}$ located at the point $(0.9,0,0)$.\n",
    "$$\n",
    "\\hat{u}(\\mathbf x)=\\frac{1}{4\\pi\\sqrt{(x-0.9)^2+y^2+z^2}}.\n",
    "$$"
   ]
  },
  {
   "cell_type": "markdown",
   "metadata": {},
   "source": [
    "For this example, we will use a direct integral equation of the first kind. Let\n",
    "$$\n",
    "g(\\mathbf x,\\mathbf y) = \\frac{1}{4\\pi |\\mathbf x-\\mathbf y|}\n",
    "$$\n",
    "be the Green's function for Laplace in three dimensions. From Green's representation theorem, it follows that every harmonic function $u$ in $\\Omega$ satisfies\n",
    "\n",
    "$$\n",
    "u(\\mathbf x) = \\int_{\\Gamma} g(\\mathbf x,\\mathbf y)\\frac{\\partial u(\\mathbf y)}{\\partial \\nu(\\mathbf{y})}\\mathrm{d}\\mathbf y-\\int_{\\Gamma}\\frac{\\partial g(\\mathbf x,\\mathbf y)}{\\partial \\nu(\\mathbf{y})}u(\\mathbf y)\\mathrm{d}\\mathbf y,~\\mathbf x\\in\\Omega\\setminus\\Gamma\n",
    "$$\n",
    "\n",
    "or equivalantly\n",
    "\n",
    "$$\n",
    "u(\\mathbf x) = \\left[\\mathcal{V}\\frac{\\partial u(\\mathbf y)}{\\partial \\nu(\\mathbf{y})}\\right] (\\mathbf{x}) - \\left[\\mathcal{K}u\\right] (\\mathbf{x}),~\\mathbf x\\in\\Omega\\setminus\\Gamma,\n",
    "$$\n",
    "\n",
    "where $\\mathcal{V}$ and $\\mathcal{K}$ are the single and double layer potential operators.\n",
    "\n",
    "Taking the limit $\\mathbf x\\rightarrow \\Gamma$ we obtain the boundary integral equation\n",
    "\n",
    "$$\n",
    "\\left[\\mathsf{V}\\frac{\\partial u}{\\partial n}\\right] (\\mathbf x)=\\left[(\\tfrac12\\mathsf{Id}+\\mathsf{K})u\\right] (\\mathbf x),~\\mathbf x\\in\\Gamma.\n",
    "$$\n",
    "\n",
    "Here, $\\mathsf{V}$ and $\\mathsf{K}$ are the single and double layer boundary operators."
   ]
  },
  {
   "cell_type": "markdown",
   "metadata": {},
   "source": [
    "### Implementation"
   ]
  },
  {
   "cell_type": "markdown",
   "metadata": {},
   "source": [
    "We now demonstrate how to solve this problem with Bempp. We begin by importing Bempp and NumPy."
   ]
  },
  {
   "cell_type": "code",
   "execution_count": 1,
   "metadata": {},
   "outputs": [],
   "source": [
    "import bempp.api\n",
    "import numpy as np"
   ]
  },
  {
   "cell_type": "markdown",
   "metadata": {},
   "source": [
    "We next define a mesh or grid. For this problem, we will use the built-in function `sphere` that defines a simple spherical grid."
   ]
  },
  {
   "cell_type": "code",
   "execution_count": 2,
   "metadata": {},
   "outputs": [
    {
     "name": "stdout",
     "output_type": "stream",
     "text": [
      "\n"
     ]
    }
   ],
   "source": [
    "grid = bempp.api.shapes.sphere(h=0.1)"
   ]
  },
  {
   "cell_type": "markdown",
   "metadata": {},
   "source": [
    "We now define the spaces. For this example we will use two spaces: the space of continuous, piecewise linear functions; and the space of piecewise constant functions. The space of piecewise constant functions has the right smoothness for the unknown Neumann data. We will use continuous, piecewise linear functions to represent the known Dirichlet data."
   ]
  },
  {
   "cell_type": "code",
   "execution_count": 3,
   "metadata": {},
   "outputs": [],
   "source": [
    "# dp0_space = bempp.api.function_space(grid, \"DP\", 0)\n",
    "# p1_space = bempp.api.function_space(grid, \"P\", 1)"
   ]
  },
  {
   "cell_type": "code",
   "execution_count": 4,
   "metadata": {},
   "outputs": [],
   "source": [
    "p1_space = bempp.api.function_space(grid, \"P\", 1)"
   ]
  },
  {
   "cell_type": "markdown",
   "metadata": {},
   "source": [
    "We can now define the operators. We need the identity, single layer, and double layer boundary operator."
   ]
  },
  {
   "cell_type": "code",
   "execution_count": 5,
   "metadata": {},
   "outputs": [],
   "source": [
    "# identity = bempp.api.operators.boundary.sparse.identity(\n",
    "#     p1_space, p1_space, dp0_space)\n",
    "# dlp = bempp.api.operators.boundary.laplace.double_layer(\n",
    "#     p1_space, p1_space, dp0_space)\n",
    "# slp = bempp.api.operators.boundary.laplace.single_layer(\n",
    "#     dp0_space, p1_space, dp0_space)"
   ]
  },
  {
   "cell_type": "code",
   "execution_count": 6,
   "metadata": {},
   "outputs": [],
   "source": [
    "# STOKES 1\n",
    "# slp = bempp.api.operators.boundary.laplace.single_layer(\n",
    "#     p1_space, p1_space, p1_space)"
   ]
  },
  {
   "cell_type": "code",
   "execution_count": 7,
   "metadata": {},
   "outputs": [],
   "source": [
    "# STOKES 2\n",
    "slp1 = bempp.api.operators.boundary.stokes.single_layer(\n",
    "    p1_space, p1_space, p1_space, opt_layer=0\n",
    ")\n",
    "slp2 = bempp.api.operators.boundary.stokes.single_layer(\n",
    "    p1_space, p1_space, p1_space, opt_layer=1\n",
    ")\n",
    "slp3 = bempp.api.operators.boundary.stokes.single_layer(\n",
    "    p1_space, p1_space, p1_space, opt_layer=2\n",
    ")\n",
    "slp4 = bempp.api.operators.boundary.stokes.single_layer(\n",
    "    p1_space, p1_space, p1_space, opt_layer=3\n",
    ")\n",
    "slp5 = bempp.api.operators.boundary.stokes.single_layer(\n",
    "    p1_space, p1_space, p1_space, opt_layer=4\n",
    ")\n",
    "slp6 = bempp.api.operators.boundary.stokes.single_layer(\n",
    "    p1_space, p1_space, p1_space, opt_layer=5\n",
    ")\n",
    "slp7 = bempp.api.operators.boundary.stokes.single_layer(\n",
    "    p1_space, p1_space, p1_space, opt_layer=6\n",
    ")\n",
    "slp8 = bempp.api.operators.boundary.stokes.single_layer(\n",
    "    p1_space, p1_space, p1_space, opt_layer=7\n",
    ")\n",
    "slp9 = bempp.api.operators.boundary.stokes.single_layer(\n",
    "    p1_space, p1_space, p1_space, opt_layer=8\n",
    ")\n",
    "\n",
    "A = bempp.api.GeneralizedBlockedOperator(\n",
    "    [[slp1, slp2, slp3], [slp4, slp5, slp6], [slp7, slp8, slp9]]\n",
    ")"
   ]
  },
  {
   "cell_type": "markdown",
   "metadata": {},
   "source": [
    "We now define the GridFunction object on the sphere grid that represents the Dirichlet data."
   ]
  },
  {
   "cell_type": "code",
   "execution_count": 8,
   "metadata": {},
   "outputs": [],
   "source": [
    "# @bempp.api.real_callable\n",
    "# def dirichlet_data(x, n, domain_index, result):\n",
    "#     result[0] = 1./(4 * np.pi * ((x[0] - .9)**2 + x[1]**2 + x[2]**2)**(0.5))\n",
    "\n",
    "# dirichlet_fun = bempp.api.GridFunction(p1_space, fun=dirichlet_data)"
   ]
  },
  {
   "cell_type": "code",
   "execution_count": 9,
   "metadata": {},
   "outputs": [],
   "source": [
    "@bempp.api.real_callable\n",
    "def dirichlet_data(x, n, domain_index, result):\n",
    "    result[0] = 0  # Quizás : en vez del 0 en result\n",
    "\n",
    "\n",
    "dirichlet_fun = bempp.api.GridFunction(p1_space, fun=dirichlet_data)"
   ]
  },
  {
   "cell_type": "markdown",
   "metadata": {},
   "source": [
    "We next assemble the right-hand side of the boundary integral equation, given by $$(\\tfrac12\\mathsf{Id}+\\mathsf{K})u.$$"
   ]
  },
  {
   "cell_type": "code",
   "execution_count": 10,
   "metadata": {},
   "outputs": [],
   "source": [
    "# rhs = (.5 * identity + dlp) * dirichlet_fun"
   ]
  },
  {
   "cell_type": "code",
   "execution_count": 11,
   "metadata": {},
   "outputs": [],
   "source": [
    "# STOKES 1\n",
    "# rhs = dirichlet_fun"
   ]
  },
  {
   "cell_type": "code",
   "execution_count": 12,
   "metadata": {},
   "outputs": [],
   "source": [
    "# STOKES 2\n",
    "rhs = [dirichlet_fun, dirichlet_fun, dirichlet_fun]"
   ]
  },
  {
   "cell_type": "markdown",
   "metadata": {},
   "source": [
    "We now solve the linear system using a conjugate gradient (CG) method."
   ]
  },
  {
   "cell_type": "code",
   "execution_count": 13,
   "metadata": {},
   "outputs": [],
   "source": [
    "# STOKES 1\n",
    "# neumann_fun, info = bempp.api.linalg.cg(slp, rhs, tol=1E-3)"
   ]
  },
  {
   "cell_type": "code",
   "execution_count": 14,
   "metadata": {},
   "outputs": [
    {
     "name": "stdout",
     "output_type": "stream",
     "text": [
      "0\n",
      "0\n",
      "1\n",
      "1\n",
      "2\n",
      "2\n",
      "3\n",
      "3\n",
      "4\n",
      "4\n",
      "5\n",
      "5\n",
      "6\n",
      "6\n",
      "7\n",
      "7\n",
      "8\n",
      "8\n"
     ]
    }
   ],
   "source": [
    "# STOKES 2\n",
    "Tu = bempp.api.linalg.lu(A, rhs)"
   ]
  },
  {
   "cell_type": "markdown",
   "metadata": {},
   "source": [
    "We now want to provide a simple plot of the solution in the $(x,y)$ plane for $z=0$. We first define points at which to plot the solution."
   ]
  },
  {
   "cell_type": "code",
   "execution_count": 15,
   "metadata": {},
   "outputs": [],
   "source": [
    "n_grid_points = 150\n",
    "plot_grid = np.mgrid[-1 : 1 : n_grid_points * 1j, -1 : 1 : n_grid_points * 1j]\n",
    "points = np.vstack(\n",
    "    (plot_grid[0].ravel(), plot_grid[1].ravel(), np.zeros(plot_grid[0].size))\n",
    ")"
   ]
  },
  {
   "cell_type": "markdown",
   "metadata": {},
   "source": [
    "The variable `points` now contains in its columns the coordinates of the evaluation points. We can now use Green's representation theorem to evaluate the solution on these points. Note in particular the last line of the following code. It is a direct implementation of Green's representation theorem."
   ]
  },
  {
   "cell_type": "code",
   "execution_count": 16,
   "metadata": {},
   "outputs": [],
   "source": [
    "# slp_pot = bempp.api.operators.potential.laplace.single_layer(dp0_space, points)\n",
    "# dlp_pot = bempp.api.operators.potential.laplace.double_layer(p1_space, points)\n",
    "# u_evaluated = slp_pot * neumann_fun - dlp_pot * dirichlet_fun"
   ]
  },
  {
   "cell_type": "code",
   "execution_count": 17,
   "metadata": {},
   "outputs": [
    {
     "name": "stdout",
     "output_type": "stream",
     "text": [
      "0\n",
      "1\n",
      "2\n",
      "3\n",
      "4\n",
      "5\n",
      "6\n",
      "7\n",
      "8\n"
     ]
    }
   ],
   "source": [
    "slp1_pot = bempp.api.operators.potential.stokes.single_layer(\n",
    "    p1_space, points, opt_layer=0\n",
    ")\n",
    "slp2_pot = bempp.api.operators.potential.stokes.single_layer(\n",
    "    p1_space, points, opt_layer=1\n",
    ")\n",
    "slp3_pot = bempp.api.operators.potential.stokes.single_layer(\n",
    "    p1_space, points, opt_layer=2\n",
    ")\n",
    "slp4_pot = bempp.api.operators.potential.stokes.single_layer(\n",
    "    p1_space, points, opt_layer=3\n",
    ")\n",
    "slp5_pot = bempp.api.operators.potential.stokes.single_layer(\n",
    "    p1_space, points, opt_layer=4\n",
    ")\n",
    "slp6_pot = bempp.api.operators.potential.stokes.single_layer(\n",
    "    p1_space, points, opt_layer=5\n",
    ")\n",
    "slp7_pot = bempp.api.operators.potential.stokes.single_layer(\n",
    "    p1_space, points, opt_layer=6\n",
    ")\n",
    "slp8_pot = bempp.api.operators.potential.stokes.single_layer(\n",
    "    p1_space, points, opt_layer=7\n",
    ")\n",
    "slp9_pot = bempp.api.operators.potential.stokes.single_layer(\n",
    "    p1_space, points, opt_layer=8\n",
    ")\n",
    "\n",
    "u_evaluated1 = slp1_pot * Tu[0] + slp2_pot * Tu[1] + slp3_pot * Tu[2]\n",
    "u_evaluated2 = slp4_pot * Tu[0] + slp5_pot * Tu[1] + slp6_pot * Tu[2]\n",
    "u_evaluated3 = slp7_pot * Tu[0] + slp8_pot * Tu[1] + slp9_pot * Tu[2]"
   ]
  },
  {
   "cell_type": "code",
   "execution_count": 18,
   "metadata": {},
   "outputs": [
    {
     "name": "stdout",
     "output_type": "stream",
     "text": [
      "[[0. 0. 0. ... 0. 0. 0.]]\n",
      "[[0. 0. 0. ... 0. 0. 0.]]\n",
      "[[0. 0. 0. ... 0. 0. 0.]]\n"
     ]
    }
   ],
   "source": [
    "print(u_evaluated1)\n",
    "print(u_evaluated2)\n",
    "print(u_evaluated3)"
   ]
  },
  {
   "cell_type": "code",
   "execution_count": 19,
   "metadata": {},
   "outputs": [],
   "source": [
    "# Queda ver la presión!"
   ]
  },
  {
   "cell_type": "markdown",
   "metadata": {},
   "source": [
    "We now plot the 2D slice of the solution. For a full three dimensional visualization, Bempp can export the data to Gmsh. Since the solution decays quickly, we use a logarithmic plot."
   ]
  },
  {
   "cell_type": "code",
   "execution_count": 20,
   "metadata": {},
   "outputs": [],
   "source": [
    "# # The next command ensures that plots are shown within the IPython notebook\n",
    "# %matplotlib inline\n",
    "\n",
    "# # Filter out solution values that are associated with points outside the unit circle.\n",
    "# u_evaluated = u_evaluated.reshape((n_grid_points,n_grid_points))\n",
    "# radius = np.sqrt(plot_grid[0]**2 + plot_grid[1]**2)\n",
    "# u_evaluated[radius>1] = np.nan\n",
    "\n",
    "# # Plot the image\n",
    "# import matplotlib\n",
    "# matplotlib.rcParams['figure.figsize'] = (5.0, 4.0)\n",
    "\n",
    "# from matplotlib import pylab as plt\n",
    "\n",
    "# plt.imshow(np.log(np.abs(u_evaluated.T)), extent=(-1,1,-1,1))\n",
    "# # plt.imshow(np.abs(u_evaluated.T), extent=(-1,1,-1,1))\n",
    "# plt.title('Computed solution')\n",
    "# plt.colorbar()"
   ]
  },
  {
   "cell_type": "code",
   "execution_count": null,
   "metadata": {},
   "outputs": [],
   "source": []
  }
 ],
 "metadata": {
  "kernelspec": {
   "display_name": "Python 3",
   "language": "python",
   "name": "python3"
  },
  "language_info": {
   "codemirror_mode": {
    "name": "ipython",
    "version": 3
   },
   "file_extension": ".py",
   "mimetype": "text/x-python",
   "name": "python",
   "nbconvert_exporter": "python",
   "pygments_lexer": "ipython3",
   "version": "3.11.5"
  }
 },
 "nbformat": 4,
 "nbformat_minor": 1
}
