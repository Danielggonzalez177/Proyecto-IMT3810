{
 "cells": [
  {
   "cell_type": "markdown",
   "metadata": {},
   "source": [
    "# Simulación Flujo de Stokes"
   ]
  },
  {
   "cell_type": "markdown",
   "metadata": {},
   "source": [
    "Se intentará resolver la ecuación homogénea con condición de frontera de Dirichlet, considerando $\\mu=1$."
   ]
  },
  {
   "cell_type": "markdown",
   "metadata": {},
   "source": [
    "Primero, partimos importando las librerías que utilizaremos. Notar que ```bempp``` corresponde a una modificación de la librería original que incluya las nuevas implementaciones para el flujo de Stokes."
   ]
  },
  {
   "cell_type": "code",
   "execution_count": 1,
   "metadata": {},
   "outputs": [],
   "source": [
    "import bempp.api\n",
    "import numpy as np"
   ]
  },
  {
   "cell_type": "markdown",
   "metadata": {},
   "source": [
    "Se sitúa una esfera en el origen con radio 1:"
   ]
  },
  {
   "cell_type": "code",
   "execution_count": 2,
   "metadata": {},
   "outputs": [
    {
     "name": "stdout",
     "output_type": "stream",
     "text": [
      "\n"
     ]
    }
   ],
   "source": [
    "grid = bempp.api.shapes.sphere(h=0.1)"
   ]
  },
  {
   "cell_type": "markdown",
   "metadata": {},
   "source": [
    "A continuación, se define el espacio a utilizar. En nuestro caso, utilizaremos funciones P1 debido a que nuestra incógnita corresponde a la función de Neumann y que el costo computacional no es significativo para el caso que estamos estudiando."
   ]
  },
  {
   "cell_type": "code",
   "execution_count": 3,
   "metadata": {},
   "outputs": [],
   "source": [
    "p1_space = bempp.api.function_space(grid, \"P\", 1)"
   ]
  },
  {
   "cell_type": "markdown",
   "metadata": {},
   "source": [
    "Ahora, definimos a los operadores. En nuestro caso, solo necesitamos al single layer y este se encuentra programado por coordenadas, por lo que armamos un bloque de capas:"
   ]
  },
  {
   "cell_type": "code",
   "execution_count": 4,
   "metadata": {},
   "outputs": [],
   "source": [
    "slp1 = bempp.api.operators.boundary.stokes.single_layer(\n",
    "    p1_space, p1_space, p1_space, opt_layer=0\n",
    ")\n",
    "slp2 = bempp.api.operators.boundary.stokes.single_layer(\n",
    "    p1_space, p1_space, p1_space, opt_layer=1\n",
    ")\n",
    "slp3 = bempp.api.operators.boundary.stokes.single_layer(\n",
    "    p1_space, p1_space, p1_space, opt_layer=2\n",
    ")\n",
    "slp4 = bempp.api.operators.boundary.stokes.single_layer(\n",
    "    p1_space, p1_space, p1_space, opt_layer=3\n",
    ")\n",
    "slp5 = bempp.api.operators.boundary.stokes.single_layer(\n",
    "    p1_space, p1_space, p1_space, opt_layer=4\n",
    ")\n",
    "slp6 = bempp.api.operators.boundary.stokes.single_layer(\n",
    "    p1_space, p1_space, p1_space, opt_layer=5\n",
    ")\n",
    "slp7 = bempp.api.operators.boundary.stokes.single_layer(\n",
    "    p1_space, p1_space, p1_space, opt_layer=6\n",
    ")\n",
    "slp8 = bempp.api.operators.boundary.stokes.single_layer(\n",
    "    p1_space, p1_space, p1_space, opt_layer=7\n",
    ")\n",
    "slp9 = bempp.api.operators.boundary.stokes.single_layer(\n",
    "    p1_space, p1_space, p1_space, opt_layer=8\n",
    ")\n",
    "\n",
    "A = bempp.api.GeneralizedBlockedOperator(\n",
    "    [[slp1, slp2, slp3], [slp4, slp5, slp6], [slp7, slp8, slp9]]\n",
    ")"
   ]
  },
  {
   "cell_type": "markdown",
   "metadata": {},
   "source": [
    "Definimos la función de grilla en la esfera, representando a la parte de Dirichlet:"
   ]
  },
  {
   "cell_type": "code",
   "execution_count": 5,
   "metadata": {},
   "outputs": [],
   "source": [
    "@bempp.api.real_callable\n",
    "def dirichlet_data(x, n, domain_index, result):\n",
    "    result[0] = 0\n",
    "\n",
    "\n",
    "dirichlet_fun = bempp.api.GridFunction(p1_space, fun=dirichlet_data)"
   ]
  },
  {
   "cell_type": "markdown",
   "metadata": {},
   "source": [
    "Construimos el lado derecho de la ecuación integral de borde (problema interior)\n",
    "\n",
    "$$(\\tfrac12\\mathsf{Id}+\\mathsf{K})u.$$"
   ]
  },
  {
   "cell_type": "code",
   "execution_count": 6,
   "metadata": {},
   "outputs": [],
   "source": [
    "rhs = [dirichlet_fun, dirichlet_fun, dirichlet_fun]"
   ]
  },
  {
   "cell_type": "markdown",
   "metadata": {},
   "source": [
    "Resolvemos el sistema lineal mediante una descomposición LU directa:"
   ]
  },
  {
   "cell_type": "code",
   "execution_count": 10,
   "metadata": {},
   "outputs": [],
   "source": [
    "Tu = bempp.api.linalg.lu(A, rhs)"
   ]
  },
  {
   "cell_type": "markdown",
   "metadata": {},
   "source": [
    "Definimos puntos en los que evaluaremos la solución:"
   ]
  },
  {
   "cell_type": "code",
   "execution_count": 11,
   "metadata": {},
   "outputs": [],
   "source": [
    "n_grid_points = 150\n",
    "plot_grid = np.mgrid[-3 : 3 : n_grid_points * 1j, -3 : 3 : n_grid_points * 1j]\n",
    "points = np.vstack(\n",
    "    (plot_grid[0].ravel(), plot_grid[1].ravel(), np.zeros(plot_grid[0].size))\n",
    ")"
   ]
  },
  {
   "cell_type": "markdown",
   "metadata": {},
   "source": [
    "Utilizamos las formulas de representación para evaluar la velocidad y la presión en los puntos recién definidos:"
   ]
  },
  {
   "cell_type": "code",
   "execution_count": 13,
   "metadata": {},
   "outputs": [],
   "source": [
    "# Velocidad:\n",
    "slp1_pot = bempp.api.operators.potential.stokes.single_layer(\n",
    "    p1_space, points, opt_layer=0\n",
    ")\n",
    "slp2_pot = bempp.api.operators.potential.stokes.single_layer(\n",
    "    p1_space, points, opt_layer=1\n",
    ")\n",
    "slp3_pot = bempp.api.operators.potential.stokes.single_layer(\n",
    "    p1_space, points, opt_layer=2\n",
    ")\n",
    "slp4_pot = bempp.api.operators.potential.stokes.single_layer(\n",
    "    p1_space, points, opt_layer=3\n",
    ")\n",
    "slp5_pot = bempp.api.operators.potential.stokes.single_layer(\n",
    "    p1_space, points, opt_layer=4\n",
    ")\n",
    "slp6_pot = bempp.api.operators.potential.stokes.single_layer(\n",
    "    p1_space, points, opt_layer=5\n",
    ")\n",
    "slp7_pot = bempp.api.operators.potential.stokes.single_layer(\n",
    "    p1_space, points, opt_layer=6\n",
    ")\n",
    "slp8_pot = bempp.api.operators.potential.stokes.single_layer(\n",
    "    p1_space, points, opt_layer=7\n",
    ")\n",
    "slp9_pot = bempp.api.operators.potential.stokes.single_layer(\n",
    "    p1_space, points, opt_layer=8\n",
    ")\n",
    "\n",
    "u_evaluated1 = slp1_pot * Tu[0] + slp2_pot * Tu[1] + slp3_pot * Tu[2]\n",
    "u_evaluated2 = slp4_pot * Tu[0] + slp5_pot * Tu[1] + slp6_pot * Tu[2]\n",
    "u_evaluated3 = slp7_pot * Tu[0] + slp8_pot * Tu[1] + slp9_pot * Tu[2]"
   ]
  },
  {
   "cell_type": "code",
   "execution_count": 14,
   "metadata": {},
   "outputs": [
    {
     "name": "stdout",
     "output_type": "stream",
     "text": [
      "[[0. 0. 0. ... 0. 0. 0.]]\n",
      "[[0. 0. 0. ... 0. 0. 0.]]\n",
      "[[0. 0. 0. ... 0. 0. 0.]]\n"
     ]
    }
   ],
   "source": [
    "print(u_evaluated1)\n",
    "print(u_evaluated2)\n",
    "print(u_evaluated3)"
   ]
  },
  {
   "cell_type": "code",
   "execution_count": 15,
   "metadata": {},
   "outputs": [],
   "source": [
    "# Presión:\n",
    "slp10_pot = bempp.api.operators.potential.stokes.single_layer(\n",
    "    p1_space, points, opt_layer=9\n",
    ")\n",
    "slp11_pot = bempp.api.operators.potential.stokes.single_layer(\n",
    "    p1_space, points, opt_layer=10\n",
    ")\n",
    "slp12_pot = bempp.api.operators.potential.stokes.single_layer(\n",
    "    p1_space, points, opt_layer=11\n",
    ")\n",
    "\n",
    "p_evaluated = slp10_pot * Tu[0] + slp11_pot * Tu[1] + slp12_pot * Tu[2]"
   ]
  },
  {
   "cell_type": "code",
   "execution_count": 16,
   "metadata": {},
   "outputs": [
    {
     "name": "stdout",
     "output_type": "stream",
     "text": [
      "[[0. 0. 0. ... 0. 0. 0.]]\n"
     ]
    }
   ],
   "source": [
    "print(p_evaluated)"
   ]
  }
 ],
 "metadata": {
  "kernelspec": {
   "display_name": "Python 3",
   "language": "python",
   "name": "python3"
  },
  "language_info": {
   "codemirror_mode": {
    "name": "ipython",
    "version": 3
   },
   "file_extension": ".py",
   "mimetype": "text/x-python",
   "name": "python",
   "nbconvert_exporter": "python",
   "pygments_lexer": "ipython3",
   "version": "3.11.5"
  }
 },
 "nbformat": 4,
 "nbformat_minor": 1
}
